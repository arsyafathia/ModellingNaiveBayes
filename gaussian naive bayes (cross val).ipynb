{
  "cells": [
    {
      "cell_type": "markdown",
      "metadata": {
        "id": "view-in-github",
        "colab_type": "text"
      },
      "source": [
        "<a href=\"https://colab.research.google.com/github/arsyafathia/arsyafathia/blob/main/gaussian%20naive%20bayes%20(cross%20val).ipynb\" target=\"_parent\"><img src=\"https://colab.research.google.com/assets/colab-badge.svg\" alt=\"Open In Colab\"/></a>"
      ]
    },
    {
      "cell_type": "code",
      "execution_count": null,
      "metadata": {
        "id": "UDUKrtIO0APG"
      },
      "outputs": [],
      "source": [
        "import pandas as pd\n",
        "from sklearn.naive_bayes import GaussianNB\n",
        "from sklearn.model_selection import train_test_split\n",
        "from sklearn.metrics import accuracy_score\n",
        "from sklearn.model_selection import cross_val_score\n",
        "import matplotlib.pyplot as plt\n",
        "from sklearn.model_selection import cross_val_predict\n",
        "from sklearn.model_selection import KFold\n",
        "from sklearn.naive_bayes import GaussianNB\n"
      ]
    },
    {
      "cell_type": "code",
      "execution_count": null,
      "metadata": {
        "colab": {
          "base_uri": "https://localhost:8080/",
          "height": 424
        },
        "id": "GFZ-kDo20Inq",
        "outputId": "53f447ef-ec53-4962-99f3-1d16246a09d9"
      },
      "outputs": [
        {
          "output_type": "execute_result",
          "data": {
            "text/plain": [
              "               kota kecamatan       kelurahan   ph  deterjen  mangan  \\\n",
              "0     Jakarta Pusat    Gambir          Cideng  7.2      0.60    0.30   \n",
              "1     Jakarta Pusat    Gambir       Duri Pulo  7.6      2.94    1.51   \n",
              "2     Jakarta Pusat    Gambir          Gambir  7.9      0.14    0.60   \n",
              "3     Jakarta Pusat    Gambir    Kebon Kelapa  7.5      0.60    0.30   \n",
              "4     Jakarta Pusat    Gambir  Petojo Selatan  7.7      0.60    0.30   \n",
              "...             ...       ...             ...  ...       ...     ...   \n",
              "1063  Jakarta Timur  Cipayung        Cipayung  7.0      0.02    0.03   \n",
              "1064  Jakarta Timur  Cipayung    Lubang Buaya  6.5      0.02    0.03   \n",
              "1065  Jakarta Timur  Cipayung          Munjul  6.0      0.02    0.03   \n",
              "1066  Jakarta Timur  Cipayung  Pondok Ranggon  6.6      0.02    0.03   \n",
              "1067  Jakarta Timur  Cipayung            Setu  6.9      0.00    0.03   \n",
              "\n",
              "      total_coliform  e_coli  indeks          mutu  \n",
              "0                100     100    1.78  Cemar Ringan  \n",
              "1                  0       0    0.72          Baik  \n",
              "2                100       0    2.74  Cemar Ringan  \n",
              "3                  0       0    0.99          Baik  \n",
              "4                  0       0    1.31  Cemar Ringan  \n",
              "...              ...     ...     ...           ...  \n",
              "1063            2900       0    6.00  Cemar Sedang  \n",
              "1064            1000     600    5.00  Cemar Sedang  \n",
              "1065             900     200    5.00  Cemar Sedang  \n",
              "1066               0       0    0.00          Baik  \n",
              "1067               0       0    0.00          Baik  \n",
              "\n",
              "[1068 rows x 10 columns]"
            ],
            "text/html": [
              "\n",
              "  <div id=\"df-b357f4d2-df12-45fb-a66b-2f23eb58707d\">\n",
              "    <div class=\"colab-df-container\">\n",
              "      <div>\n",
              "<style scoped>\n",
              "    .dataframe tbody tr th:only-of-type {\n",
              "        vertical-align: middle;\n",
              "    }\n",
              "\n",
              "    .dataframe tbody tr th {\n",
              "        vertical-align: top;\n",
              "    }\n",
              "\n",
              "    .dataframe thead th {\n",
              "        text-align: right;\n",
              "    }\n",
              "</style>\n",
              "<table border=\"1\" class=\"dataframe\">\n",
              "  <thead>\n",
              "    <tr style=\"text-align: right;\">\n",
              "      <th></th>\n",
              "      <th>kota</th>\n",
              "      <th>kecamatan</th>\n",
              "      <th>kelurahan</th>\n",
              "      <th>ph</th>\n",
              "      <th>deterjen</th>\n",
              "      <th>mangan</th>\n",
              "      <th>total_coliform</th>\n",
              "      <th>e_coli</th>\n",
              "      <th>indeks</th>\n",
              "      <th>mutu</th>\n",
              "    </tr>\n",
              "  </thead>\n",
              "  <tbody>\n",
              "    <tr>\n",
              "      <th>0</th>\n",
              "      <td>Jakarta Pusat</td>\n",
              "      <td>Gambir</td>\n",
              "      <td>Cideng</td>\n",
              "      <td>7.2</td>\n",
              "      <td>0.60</td>\n",
              "      <td>0.30</td>\n",
              "      <td>100</td>\n",
              "      <td>100</td>\n",
              "      <td>1.78</td>\n",
              "      <td>Cemar Ringan</td>\n",
              "    </tr>\n",
              "    <tr>\n",
              "      <th>1</th>\n",
              "      <td>Jakarta Pusat</td>\n",
              "      <td>Gambir</td>\n",
              "      <td>Duri Pulo</td>\n",
              "      <td>7.6</td>\n",
              "      <td>2.94</td>\n",
              "      <td>1.51</td>\n",
              "      <td>0</td>\n",
              "      <td>0</td>\n",
              "      <td>0.72</td>\n",
              "      <td>Baik</td>\n",
              "    </tr>\n",
              "    <tr>\n",
              "      <th>2</th>\n",
              "      <td>Jakarta Pusat</td>\n",
              "      <td>Gambir</td>\n",
              "      <td>Gambir</td>\n",
              "      <td>7.9</td>\n",
              "      <td>0.14</td>\n",
              "      <td>0.60</td>\n",
              "      <td>100</td>\n",
              "      <td>0</td>\n",
              "      <td>2.74</td>\n",
              "      <td>Cemar Ringan</td>\n",
              "    </tr>\n",
              "    <tr>\n",
              "      <th>3</th>\n",
              "      <td>Jakarta Pusat</td>\n",
              "      <td>Gambir</td>\n",
              "      <td>Kebon Kelapa</td>\n",
              "      <td>7.5</td>\n",
              "      <td>0.60</td>\n",
              "      <td>0.30</td>\n",
              "      <td>0</td>\n",
              "      <td>0</td>\n",
              "      <td>0.99</td>\n",
              "      <td>Baik</td>\n",
              "    </tr>\n",
              "    <tr>\n",
              "      <th>4</th>\n",
              "      <td>Jakarta Pusat</td>\n",
              "      <td>Gambir</td>\n",
              "      <td>Petojo Selatan</td>\n",
              "      <td>7.7</td>\n",
              "      <td>0.60</td>\n",
              "      <td>0.30</td>\n",
              "      <td>0</td>\n",
              "      <td>0</td>\n",
              "      <td>1.31</td>\n",
              "      <td>Cemar Ringan</td>\n",
              "    </tr>\n",
              "    <tr>\n",
              "      <th>...</th>\n",
              "      <td>...</td>\n",
              "      <td>...</td>\n",
              "      <td>...</td>\n",
              "      <td>...</td>\n",
              "      <td>...</td>\n",
              "      <td>...</td>\n",
              "      <td>...</td>\n",
              "      <td>...</td>\n",
              "      <td>...</td>\n",
              "      <td>...</td>\n",
              "    </tr>\n",
              "    <tr>\n",
              "      <th>1063</th>\n",
              "      <td>Jakarta Timur</td>\n",
              "      <td>Cipayung</td>\n",
              "      <td>Cipayung</td>\n",
              "      <td>7.0</td>\n",
              "      <td>0.02</td>\n",
              "      <td>0.03</td>\n",
              "      <td>2900</td>\n",
              "      <td>0</td>\n",
              "      <td>6.00</td>\n",
              "      <td>Cemar Sedang</td>\n",
              "    </tr>\n",
              "    <tr>\n",
              "      <th>1064</th>\n",
              "      <td>Jakarta Timur</td>\n",
              "      <td>Cipayung</td>\n",
              "      <td>Lubang Buaya</td>\n",
              "      <td>6.5</td>\n",
              "      <td>0.02</td>\n",
              "      <td>0.03</td>\n",
              "      <td>1000</td>\n",
              "      <td>600</td>\n",
              "      <td>5.00</td>\n",
              "      <td>Cemar Sedang</td>\n",
              "    </tr>\n",
              "    <tr>\n",
              "      <th>1065</th>\n",
              "      <td>Jakarta Timur</td>\n",
              "      <td>Cipayung</td>\n",
              "      <td>Munjul</td>\n",
              "      <td>6.0</td>\n",
              "      <td>0.02</td>\n",
              "      <td>0.03</td>\n",
              "      <td>900</td>\n",
              "      <td>200</td>\n",
              "      <td>5.00</td>\n",
              "      <td>Cemar Sedang</td>\n",
              "    </tr>\n",
              "    <tr>\n",
              "      <th>1066</th>\n",
              "      <td>Jakarta Timur</td>\n",
              "      <td>Cipayung</td>\n",
              "      <td>Pondok Ranggon</td>\n",
              "      <td>6.6</td>\n",
              "      <td>0.02</td>\n",
              "      <td>0.03</td>\n",
              "      <td>0</td>\n",
              "      <td>0</td>\n",
              "      <td>0.00</td>\n",
              "      <td>Baik</td>\n",
              "    </tr>\n",
              "    <tr>\n",
              "      <th>1067</th>\n",
              "      <td>Jakarta Timur</td>\n",
              "      <td>Cipayung</td>\n",
              "      <td>Setu</td>\n",
              "      <td>6.9</td>\n",
              "      <td>0.00</td>\n",
              "      <td>0.03</td>\n",
              "      <td>0</td>\n",
              "      <td>0</td>\n",
              "      <td>0.00</td>\n",
              "      <td>Baik</td>\n",
              "    </tr>\n",
              "  </tbody>\n",
              "</table>\n",
              "<p>1068 rows × 10 columns</p>\n",
              "</div>\n",
              "      <button class=\"colab-df-convert\" onclick=\"convertToInteractive('df-b357f4d2-df12-45fb-a66b-2f23eb58707d')\"\n",
              "              title=\"Convert this dataframe to an interactive table.\"\n",
              "              style=\"display:none;\">\n",
              "        \n",
              "  <svg xmlns=\"http://www.w3.org/2000/svg\" height=\"24px\"viewBox=\"0 0 24 24\"\n",
              "       width=\"24px\">\n",
              "    <path d=\"M0 0h24v24H0V0z\" fill=\"none\"/>\n",
              "    <path d=\"M18.56 5.44l.94 2.06.94-2.06 2.06-.94-2.06-.94-.94-2.06-.94 2.06-2.06.94zm-11 1L8.5 8.5l.94-2.06 2.06-.94-2.06-.94L8.5 2.5l-.94 2.06-2.06.94zm10 10l.94 2.06.94-2.06 2.06-.94-2.06-.94-.94-2.06-.94 2.06-2.06.94z\"/><path d=\"M17.41 7.96l-1.37-1.37c-.4-.4-.92-.59-1.43-.59-.52 0-1.04.2-1.43.59L10.3 9.45l-7.72 7.72c-.78.78-.78 2.05 0 2.83L4 21.41c.39.39.9.59 1.41.59.51 0 1.02-.2 1.41-.59l7.78-7.78 2.81-2.81c.8-.78.8-2.07 0-2.86zM5.41 20L4 18.59l7.72-7.72 1.47 1.35L5.41 20z\"/>\n",
              "  </svg>\n",
              "      </button>\n",
              "      \n",
              "  <style>\n",
              "    .colab-df-container {\n",
              "      display:flex;\n",
              "      flex-wrap:wrap;\n",
              "      gap: 12px;\n",
              "    }\n",
              "\n",
              "    .colab-df-convert {\n",
              "      background-color: #E8F0FE;\n",
              "      border: none;\n",
              "      border-radius: 50%;\n",
              "      cursor: pointer;\n",
              "      display: none;\n",
              "      fill: #1967D2;\n",
              "      height: 32px;\n",
              "      padding: 0 0 0 0;\n",
              "      width: 32px;\n",
              "    }\n",
              "\n",
              "    .colab-df-convert:hover {\n",
              "      background-color: #E2EBFA;\n",
              "      box-shadow: 0px 1px 2px rgba(60, 64, 67, 0.3), 0px 1px 3px 1px rgba(60, 64, 67, 0.15);\n",
              "      fill: #174EA6;\n",
              "    }\n",
              "\n",
              "    [theme=dark] .colab-df-convert {\n",
              "      background-color: #3B4455;\n",
              "      fill: #D2E3FC;\n",
              "    }\n",
              "\n",
              "    [theme=dark] .colab-df-convert:hover {\n",
              "      background-color: #434B5C;\n",
              "      box-shadow: 0px 1px 3px 1px rgba(0, 0, 0, 0.15);\n",
              "      filter: drop-shadow(0px 1px 2px rgba(0, 0, 0, 0.3));\n",
              "      fill: #FFFFFF;\n",
              "    }\n",
              "  </style>\n",
              "\n",
              "      <script>\n",
              "        const buttonEl =\n",
              "          document.querySelector('#df-b357f4d2-df12-45fb-a66b-2f23eb58707d button.colab-df-convert');\n",
              "        buttonEl.style.display =\n",
              "          google.colab.kernel.accessAllowed ? 'block' : 'none';\n",
              "\n",
              "        async function convertToInteractive(key) {\n",
              "          const element = document.querySelector('#df-b357f4d2-df12-45fb-a66b-2f23eb58707d');\n",
              "          const dataTable =\n",
              "            await google.colab.kernel.invokeFunction('convertToInteractive',\n",
              "                                                     [key], {});\n",
              "          if (!dataTable) return;\n",
              "\n",
              "          const docLinkHtml = 'Like what you see? Visit the ' +\n",
              "            '<a target=\"_blank\" href=https://colab.research.google.com/notebooks/data_table.ipynb>data table notebook</a>'\n",
              "            + ' to learn more about interactive tables.';\n",
              "          element.innerHTML = '';\n",
              "          dataTable['output_type'] = 'display_data';\n",
              "          await google.colab.output.renderOutput(dataTable, element);\n",
              "          const docLink = document.createElement('div');\n",
              "          docLink.innerHTML = docLinkHtml;\n",
              "          element.appendChild(docLink);\n",
              "        }\n",
              "      </script>\n",
              "    </div>\n",
              "  </div>\n",
              "  "
            ]
          },
          "metadata": {},
          "execution_count": 45
        }
      ],
      "source": [
        "#import data dan mengubah ke csv\n",
        "import pandas as pd\n",
        "read_file = pd.read_excel (\"datasetbaru.xlsx\")\n",
        "read_file.to_csv (\"dataset.csv\", index = None,header=True)\n",
        "df =pd.DataFrame(pd.read_csv(\"dataset.csv\"))\n",
        "df"
      ]
    },
    {
      "cell_type": "code",
      "execution_count": null,
      "metadata": {
        "colab": {
          "base_uri": "https://localhost:8080/"
        },
        "id": "s5vo6nYG4HZD",
        "outputId": "8f656d46-ebee-4184-9b8b-cb220c61ffa9"
      },
      "outputs": [
        {
          "output_type": "execute_result",
          "data": {
            "text/plain": [
              "kota              0\n",
              "kecamatan         0\n",
              "kelurahan         0\n",
              "ph                0\n",
              "deterjen          0\n",
              "mangan            0\n",
              "total_coliform    0\n",
              "e_coli            0\n",
              "indeks            0\n",
              "mutu              0\n",
              "dtype: int64"
            ]
          },
          "metadata": {},
          "execution_count": 46
        }
      ],
      "source": [
        "#mencari data yang kosong\n",
        "df.isnull().sum()"
      ]
    },
    {
      "cell_type": "code",
      "execution_count": null,
      "metadata": {
        "colab": {
          "base_uri": "https://localhost:8080/"
        },
        "id": "6FhsAF-K6n9w",
        "outputId": "dc5fcaf9-62b1-4fe9-c4d2-191bfb1debdf"
      },
      "outputs": [
        {
          "output_type": "execute_result",
          "data": {
            "text/plain": [
              "Cemar Ringan    519\n",
              "Baik            277\n",
              "Cemar Sedang    233\n",
              "Cemar Berat      39\n",
              "Name: mutu, dtype: int64"
            ]
          },
          "metadata": {},
          "execution_count": 47
        }
      ],
      "source": [
        "df['mutu'].value_counts()"
      ]
    },
    {
      "cell_type": "code",
      "execution_count": null,
      "metadata": {
        "colab": {
          "base_uri": "https://localhost:8080/"
        },
        "id": "xRgu9l-CjORC",
        "outputId": "3d570030-b680-4eba-cb32-7e0c2746ef88"
      },
      "outputs": [
        {
          "output_type": "stream",
          "name": "stdout",
          "text": [
            "Empty DataFrame\n",
            "Columns: [kota, kecamatan, kelurahan, ph, deterjen, mangan, total_coliform, e_coli, indeks, mutu]\n",
            "Index: []\n"
          ]
        }
      ],
      "source": [
        "#mencari duplikat data\n",
        "duplicate_rows = df[df.duplicated()]\n",
        "\n",
        "# menampilkan rows duplikat\n",
        "print(duplicate_rows)"
      ]
    },
    {
      "cell_type": "code",
      "source": [
        "#menghitung jumlah data berdasarkan kelurahan dan kecamatan\n",
        "kota_filter = ['Jakarta Timur', 'Jakarta Barat', 'Jakarta Utara',\n",
        "               'Jakarta Selatan', 'Jakarta Pusat']\n",
        "df_filtered = df[df['kota'].isin(kota_filter)]\n",
        "\n",
        "# Hitung jumlah kelurahan unik di keempat kota tersebut\n",
        "jumlah_kelurahan = df_filtered['kelurahan'].nunique()\n",
        "jumlah_kecamatan = df_filtered['kecamatan'].nunique()\n",
        "\n",
        "print(\"Jumlah Kelurahan di Jakarta:\", jumlah_kelurahan)\n",
        "print(\"Jumlah Kecamatan di Jakarta:\", jumlah_kecamatan)\n",
        "\n",
        "jumlah_data = df_filtered.shape[0]\n",
        "print(\"Jumlah Keseluruhan Data:\", jumlah_data)"
      ],
      "metadata": {
        "id": "1pAqQ3HxLZzy",
        "colab": {
          "base_uri": "https://localhost:8080/"
        },
        "outputId": "959429c3-f2e9-43a3-f1a5-4cb5b028718a"
      },
      "execution_count": null,
      "outputs": [
        {
          "output_type": "stream",
          "name": "stdout",
          "text": [
            "Jumlah Kelurahan di Jakarta: 267\n",
            "Jumlah Kecamatan di Jakarta: 44\n",
            "Jumlah Keseluruhan Data: 1068\n"
          ]
        }
      ]
    },
    {
      "cell_type": "code",
      "execution_count": null,
      "metadata": {
        "id": "H6ji_QY60QxY"
      },
      "outputs": [],
      "source": [
        "X = df.drop('mutu', axis=1)\n",
        "y = df['mutu']"
      ]
    },
    {
      "cell_type": "code",
      "execution_count": null,
      "metadata": {
        "colab": {
          "base_uri": "https://localhost:8080/"
        },
        "id": "GfPOksQVu6cV",
        "outputId": "28a3af34-5a10-457d-bb62-654306299742"
      },
      "outputs": [
        {
          "output_type": "stream",
          "name": "stdout",
          "text": [
            "<class 'pandas.core.frame.DataFrame'>\n",
            "RangeIndex: 1068 entries, 0 to 1067\n",
            "Data columns (total 10 columns):\n",
            " #   Column          Non-Null Count  Dtype  \n",
            "---  ------          --------------  -----  \n",
            " 0   kota            1068 non-null   object \n",
            " 1   kecamatan       1068 non-null   object \n",
            " 2   kelurahan       1068 non-null   object \n",
            " 3   ph              1068 non-null   float64\n",
            " 4   deterjen        1068 non-null   float64\n",
            " 5   mangan          1068 non-null   float64\n",
            " 6   total_coliform  1068 non-null   int64  \n",
            " 7   e_coli          1068 non-null   int64  \n",
            " 8   indeks          1068 non-null   float64\n",
            " 9   mutu            1068 non-null   object \n",
            "dtypes: float64(4), int64(2), object(4)\n",
            "memory usage: 83.6+ KB\n"
          ]
        }
      ],
      "source": [
        "df.info()"
      ]
    },
    {
      "cell_type": "code",
      "execution_count": null,
      "metadata": {
        "colab": {
          "base_uri": "https://localhost:8080/"
        },
        "id": "3Fzu24WXuF2_",
        "outputId": "fa0dc167-972d-408a-dfaa-752659ce949b"
      },
      "outputs": [
        {
          "output_type": "stream",
          "name": "stdout",
          "text": [
            "<class 'pandas.core.frame.DataFrame'>\n",
            "RangeIndex: 1068 entries, 0 to 1067\n",
            "Data columns (total 9 columns):\n",
            " #   Column          Non-Null Count  Dtype  \n",
            "---  ------          --------------  -----  \n",
            " 0   kota            1068 non-null   object \n",
            " 1   kecamatan       1068 non-null   object \n",
            " 2   kelurahan       1068 non-null   object \n",
            " 3   ph              1068 non-null   float64\n",
            " 4   deterjen        1068 non-null   float64\n",
            " 5   mangan          1068 non-null   float64\n",
            " 6   total_coliform  1068 non-null   int64  \n",
            " 7   e_coli          1068 non-null   int64  \n",
            " 8   indeks          1068 non-null   float64\n",
            "dtypes: float64(4), int64(2), object(3)\n",
            "memory usage: 75.2+ KB\n",
            "None\n",
            "                ph     deterjen       mangan  total_coliform        e_coli  \\\n",
            "count  1068.000000  1068.000000  1068.000000    1.068000e+03  1.068000e+03   \n",
            "mean      7.006695     0.164596     0.353956    5.896732e+04  9.423071e+03   \n",
            "std       0.545592     0.276354     1.038761    1.010805e+06  2.055510e+05   \n",
            "min       4.100000     0.000000     0.000000    0.000000e+00  0.000000e+00   \n",
            "25%       6.600000     0.030000     0.030000    0.000000e+00  0.000000e+00   \n",
            "50%       7.000000     0.050000     0.050000    1.000000e+02  0.000000e+00   \n",
            "75%       7.400000     0.200000     0.300000    7.000000e+02  0.000000e+00   \n",
            "max       9.900000     5.100000    24.000000    2.900000e+07  6.000000e+06   \n",
            "\n",
            "           indeks  \n",
            "count  1068.00000  \n",
            "mean      3.32890  \n",
            "std       3.45203  \n",
            "min       0.00000  \n",
            "25%       0.88500  \n",
            "50%       2.00500  \n",
            "75%       5.00000  \n",
            "max      41.10000  \n"
          ]
        }
      ],
      "source": [
        "print(X.info())\n",
        "print(X.describe())"
      ]
    },
    {
      "cell_type": "code",
      "execution_count": null,
      "metadata": {
        "colab": {
          "base_uri": "https://localhost:8080/"
        },
        "id": "4M_XN9NnuRPK",
        "outputId": "9ecd31d0-2bc3-4ac1-c37b-883c04911ea2"
      },
      "outputs": [
        {
          "output_type": "stream",
          "name": "stdout",
          "text": [
            "Index(['kota', 'kecamatan', 'kelurahan', 'ph', 'deterjen', 'mangan',\n",
            "       'total_coliform', 'e_coli', 'indeks'],\n",
            "      dtype='object')\n"
          ]
        }
      ],
      "source": [
        "print(X.columns)"
      ]
    },
    {
      "cell_type": "code",
      "execution_count": null,
      "metadata": {
        "colab": {
          "base_uri": "https://localhost:8080/",
          "height": 424
        },
        "id": "u8aLmW_l6bht",
        "outputId": "da2a169a-950c-4f7a-d984-87a545a42605"
      },
      "outputs": [
        {
          "output_type": "execute_result",
          "data": {
            "text/plain": [
              "               kota kecamatan       kelurahan        ph  deterjen    mangan  \\\n",
              "0     Jakarta Pusat    Gambir          Cideng  0.534483  0.117647  0.012500   \n",
              "1     Jakarta Pusat    Gambir       Duri Pulo  0.603448  0.576471  0.062917   \n",
              "2     Jakarta Pusat    Gambir          Gambir  0.655172  0.027451  0.025000   \n",
              "3     Jakarta Pusat    Gambir    Kebon Kelapa  0.586207  0.117647  0.012500   \n",
              "4     Jakarta Pusat    Gambir  Petojo Selatan  0.620690  0.117647  0.012500   \n",
              "...             ...       ...             ...       ...       ...       ...   \n",
              "1063  Jakarta Timur  Cipayung        Cipayung  0.500000  0.003922  0.001250   \n",
              "1064  Jakarta Timur  Cipayung    Lubang Buaya  0.413793  0.003922  0.001250   \n",
              "1065  Jakarta Timur  Cipayung          Munjul  0.327586  0.003922  0.001250   \n",
              "1066  Jakarta Timur  Cipayung  Pondok Ranggon  0.431034  0.003922  0.001250   \n",
              "1067  Jakarta Timur  Cipayung            Setu  0.482759  0.000000  0.001250   \n",
              "\n",
              "      total_coliform    e_coli    indeks          mutu  \n",
              "0           0.000003  0.000017  0.043309  Cemar Ringan  \n",
              "1           0.000000  0.000000  0.017518          Baik  \n",
              "2           0.000003  0.000000  0.066667  Cemar Ringan  \n",
              "3           0.000000  0.000000  0.024088          Baik  \n",
              "4           0.000000  0.000000  0.031873  Cemar Ringan  \n",
              "...              ...       ...       ...           ...  \n",
              "1063        0.000100  0.000000  0.145985  Cemar Sedang  \n",
              "1064        0.000034  0.000100  0.121655  Cemar Sedang  \n",
              "1065        0.000031  0.000033  0.121655  Cemar Sedang  \n",
              "1066        0.000000  0.000000  0.000000          Baik  \n",
              "1067        0.000000  0.000000  0.000000          Baik  \n",
              "\n",
              "[1068 rows x 10 columns]"
            ],
            "text/html": [
              "\n",
              "  <div id=\"df-6cebc186-a348-4a7b-89cf-db544926a136\">\n",
              "    <div class=\"colab-df-container\">\n",
              "      <div>\n",
              "<style scoped>\n",
              "    .dataframe tbody tr th:only-of-type {\n",
              "        vertical-align: middle;\n",
              "    }\n",
              "\n",
              "    .dataframe tbody tr th {\n",
              "        vertical-align: top;\n",
              "    }\n",
              "\n",
              "    .dataframe thead th {\n",
              "        text-align: right;\n",
              "    }\n",
              "</style>\n",
              "<table border=\"1\" class=\"dataframe\">\n",
              "  <thead>\n",
              "    <tr style=\"text-align: right;\">\n",
              "      <th></th>\n",
              "      <th>kota</th>\n",
              "      <th>kecamatan</th>\n",
              "      <th>kelurahan</th>\n",
              "      <th>ph</th>\n",
              "      <th>deterjen</th>\n",
              "      <th>mangan</th>\n",
              "      <th>total_coliform</th>\n",
              "      <th>e_coli</th>\n",
              "      <th>indeks</th>\n",
              "      <th>mutu</th>\n",
              "    </tr>\n",
              "  </thead>\n",
              "  <tbody>\n",
              "    <tr>\n",
              "      <th>0</th>\n",
              "      <td>Jakarta Pusat</td>\n",
              "      <td>Gambir</td>\n",
              "      <td>Cideng</td>\n",
              "      <td>0.534483</td>\n",
              "      <td>0.117647</td>\n",
              "      <td>0.012500</td>\n",
              "      <td>0.000003</td>\n",
              "      <td>0.000017</td>\n",
              "      <td>0.043309</td>\n",
              "      <td>Cemar Ringan</td>\n",
              "    </tr>\n",
              "    <tr>\n",
              "      <th>1</th>\n",
              "      <td>Jakarta Pusat</td>\n",
              "      <td>Gambir</td>\n",
              "      <td>Duri Pulo</td>\n",
              "      <td>0.603448</td>\n",
              "      <td>0.576471</td>\n",
              "      <td>0.062917</td>\n",
              "      <td>0.000000</td>\n",
              "      <td>0.000000</td>\n",
              "      <td>0.017518</td>\n",
              "      <td>Baik</td>\n",
              "    </tr>\n",
              "    <tr>\n",
              "      <th>2</th>\n",
              "      <td>Jakarta Pusat</td>\n",
              "      <td>Gambir</td>\n",
              "      <td>Gambir</td>\n",
              "      <td>0.655172</td>\n",
              "      <td>0.027451</td>\n",
              "      <td>0.025000</td>\n",
              "      <td>0.000003</td>\n",
              "      <td>0.000000</td>\n",
              "      <td>0.066667</td>\n",
              "      <td>Cemar Ringan</td>\n",
              "    </tr>\n",
              "    <tr>\n",
              "      <th>3</th>\n",
              "      <td>Jakarta Pusat</td>\n",
              "      <td>Gambir</td>\n",
              "      <td>Kebon Kelapa</td>\n",
              "      <td>0.586207</td>\n",
              "      <td>0.117647</td>\n",
              "      <td>0.012500</td>\n",
              "      <td>0.000000</td>\n",
              "      <td>0.000000</td>\n",
              "      <td>0.024088</td>\n",
              "      <td>Baik</td>\n",
              "    </tr>\n",
              "    <tr>\n",
              "      <th>4</th>\n",
              "      <td>Jakarta Pusat</td>\n",
              "      <td>Gambir</td>\n",
              "      <td>Petojo Selatan</td>\n",
              "      <td>0.620690</td>\n",
              "      <td>0.117647</td>\n",
              "      <td>0.012500</td>\n",
              "      <td>0.000000</td>\n",
              "      <td>0.000000</td>\n",
              "      <td>0.031873</td>\n",
              "      <td>Cemar Ringan</td>\n",
              "    </tr>\n",
              "    <tr>\n",
              "      <th>...</th>\n",
              "      <td>...</td>\n",
              "      <td>...</td>\n",
              "      <td>...</td>\n",
              "      <td>...</td>\n",
              "      <td>...</td>\n",
              "      <td>...</td>\n",
              "      <td>...</td>\n",
              "      <td>...</td>\n",
              "      <td>...</td>\n",
              "      <td>...</td>\n",
              "    </tr>\n",
              "    <tr>\n",
              "      <th>1063</th>\n",
              "      <td>Jakarta Timur</td>\n",
              "      <td>Cipayung</td>\n",
              "      <td>Cipayung</td>\n",
              "      <td>0.500000</td>\n",
              "      <td>0.003922</td>\n",
              "      <td>0.001250</td>\n",
              "      <td>0.000100</td>\n",
              "      <td>0.000000</td>\n",
              "      <td>0.145985</td>\n",
              "      <td>Cemar Sedang</td>\n",
              "    </tr>\n",
              "    <tr>\n",
              "      <th>1064</th>\n",
              "      <td>Jakarta Timur</td>\n",
              "      <td>Cipayung</td>\n",
              "      <td>Lubang Buaya</td>\n",
              "      <td>0.413793</td>\n",
              "      <td>0.003922</td>\n",
              "      <td>0.001250</td>\n",
              "      <td>0.000034</td>\n",
              "      <td>0.000100</td>\n",
              "      <td>0.121655</td>\n",
              "      <td>Cemar Sedang</td>\n",
              "    </tr>\n",
              "    <tr>\n",
              "      <th>1065</th>\n",
              "      <td>Jakarta Timur</td>\n",
              "      <td>Cipayung</td>\n",
              "      <td>Munjul</td>\n",
              "      <td>0.327586</td>\n",
              "      <td>0.003922</td>\n",
              "      <td>0.001250</td>\n",
              "      <td>0.000031</td>\n",
              "      <td>0.000033</td>\n",
              "      <td>0.121655</td>\n",
              "      <td>Cemar Sedang</td>\n",
              "    </tr>\n",
              "    <tr>\n",
              "      <th>1066</th>\n",
              "      <td>Jakarta Timur</td>\n",
              "      <td>Cipayung</td>\n",
              "      <td>Pondok Ranggon</td>\n",
              "      <td>0.431034</td>\n",
              "      <td>0.003922</td>\n",
              "      <td>0.001250</td>\n",
              "      <td>0.000000</td>\n",
              "      <td>0.000000</td>\n",
              "      <td>0.000000</td>\n",
              "      <td>Baik</td>\n",
              "    </tr>\n",
              "    <tr>\n",
              "      <th>1067</th>\n",
              "      <td>Jakarta Timur</td>\n",
              "      <td>Cipayung</td>\n",
              "      <td>Setu</td>\n",
              "      <td>0.482759</td>\n",
              "      <td>0.000000</td>\n",
              "      <td>0.001250</td>\n",
              "      <td>0.000000</td>\n",
              "      <td>0.000000</td>\n",
              "      <td>0.000000</td>\n",
              "      <td>Baik</td>\n",
              "    </tr>\n",
              "  </tbody>\n",
              "</table>\n",
              "<p>1068 rows × 10 columns</p>\n",
              "</div>\n",
              "      <button class=\"colab-df-convert\" onclick=\"convertToInteractive('df-6cebc186-a348-4a7b-89cf-db544926a136')\"\n",
              "              title=\"Convert this dataframe to an interactive table.\"\n",
              "              style=\"display:none;\">\n",
              "        \n",
              "  <svg xmlns=\"http://www.w3.org/2000/svg\" height=\"24px\"viewBox=\"0 0 24 24\"\n",
              "       width=\"24px\">\n",
              "    <path d=\"M0 0h24v24H0V0z\" fill=\"none\"/>\n",
              "    <path d=\"M18.56 5.44l.94 2.06.94-2.06 2.06-.94-2.06-.94-.94-2.06-.94 2.06-2.06.94zm-11 1L8.5 8.5l.94-2.06 2.06-.94-2.06-.94L8.5 2.5l-.94 2.06-2.06.94zm10 10l.94 2.06.94-2.06 2.06-.94-2.06-.94-.94-2.06-.94 2.06-2.06.94z\"/><path d=\"M17.41 7.96l-1.37-1.37c-.4-.4-.92-.59-1.43-.59-.52 0-1.04.2-1.43.59L10.3 9.45l-7.72 7.72c-.78.78-.78 2.05 0 2.83L4 21.41c.39.39.9.59 1.41.59.51 0 1.02-.2 1.41-.59l7.78-7.78 2.81-2.81c.8-.78.8-2.07 0-2.86zM5.41 20L4 18.59l7.72-7.72 1.47 1.35L5.41 20z\"/>\n",
              "  </svg>\n",
              "      </button>\n",
              "      \n",
              "  <style>\n",
              "    .colab-df-container {\n",
              "      display:flex;\n",
              "      flex-wrap:wrap;\n",
              "      gap: 12px;\n",
              "    }\n",
              "\n",
              "    .colab-df-convert {\n",
              "      background-color: #E8F0FE;\n",
              "      border: none;\n",
              "      border-radius: 50%;\n",
              "      cursor: pointer;\n",
              "      display: none;\n",
              "      fill: #1967D2;\n",
              "      height: 32px;\n",
              "      padding: 0 0 0 0;\n",
              "      width: 32px;\n",
              "    }\n",
              "\n",
              "    .colab-df-convert:hover {\n",
              "      background-color: #E2EBFA;\n",
              "      box-shadow: 0px 1px 2px rgba(60, 64, 67, 0.3), 0px 1px 3px 1px rgba(60, 64, 67, 0.15);\n",
              "      fill: #174EA6;\n",
              "    }\n",
              "\n",
              "    [theme=dark] .colab-df-convert {\n",
              "      background-color: #3B4455;\n",
              "      fill: #D2E3FC;\n",
              "    }\n",
              "\n",
              "    [theme=dark] .colab-df-convert:hover {\n",
              "      background-color: #434B5C;\n",
              "      box-shadow: 0px 1px 3px 1px rgba(0, 0, 0, 0.15);\n",
              "      filter: drop-shadow(0px 1px 2px rgba(0, 0, 0, 0.3));\n",
              "      fill: #FFFFFF;\n",
              "    }\n",
              "  </style>\n",
              "\n",
              "      <script>\n",
              "        const buttonEl =\n",
              "          document.querySelector('#df-6cebc186-a348-4a7b-89cf-db544926a136 button.colab-df-convert');\n",
              "        buttonEl.style.display =\n",
              "          google.colab.kernel.accessAllowed ? 'block' : 'none';\n",
              "\n",
              "        async function convertToInteractive(key) {\n",
              "          const element = document.querySelector('#df-6cebc186-a348-4a7b-89cf-db544926a136');\n",
              "          const dataTable =\n",
              "            await google.colab.kernel.invokeFunction('convertToInteractive',\n",
              "                                                     [key], {});\n",
              "          if (!dataTable) return;\n",
              "\n",
              "          const docLinkHtml = 'Like what you see? Visit the ' +\n",
              "            '<a target=\"_blank\" href=https://colab.research.google.com/notebooks/data_table.ipynb>data table notebook</a>'\n",
              "            + ' to learn more about interactive tables.';\n",
              "          element.innerHTML = '';\n",
              "          dataTable['output_type'] = 'display_data';\n",
              "          await google.colab.output.renderOutput(dataTable, element);\n",
              "          const docLink = document.createElement('div');\n",
              "          docLink.innerHTML = docLinkHtml;\n",
              "          element.appendChild(docLink);\n",
              "        }\n",
              "      </script>\n",
              "    </div>\n",
              "  </div>\n",
              "  "
            ]
          },
          "metadata": {},
          "execution_count": 56
        }
      ],
      "source": [
        "#normalisasi\n",
        "from sklearn.preprocessing import MinMaxScaler\n",
        "# Atribut numerik\n",
        "numeric_cols = ['ph', 'deterjen', 'mangan',\n",
        "                'total_coliform', 'e_coli', 'indeks']\n",
        "# Atribut string\n",
        "categorical_cols = ['kota','kecamatan',\n",
        "                    'kelurahan','mutu']\n",
        "scaler = MinMaxScaler()\n",
        "df[numeric_cols]= scaler.fit_transform(df[numeric_cols])\n",
        "df"
      ]
    },
    {
      "cell_type": "code",
      "source": [
        "#modelling\n",
        "from sklearn.naive_bayes import GaussianNB\n",
        "from sklearn.model_selection import KFold\n",
        "from sklearn.model_selection import cross_val_predict\n",
        "\n",
        "# Inisialisasi model Naive Bayes\n",
        "model = GaussianNB()\n",
        "\n",
        "n_folds = 5 # Jumlah fold yang diinginkan\n",
        "kf = KFold(n_splits=n_folds, shuffle=False)\n",
        "\n",
        "# Menggunakan cross_val_predict untuk melakukan prediksi pada setiap fold\n",
        "y_pred = cross_val_predict(model, df[numeric_cols], y, cv=kf)\n"
      ],
      "metadata": {
        "id": "41OB8kBfJMiL"
      },
      "execution_count": null,
      "outputs": []
    },
    {
      "cell_type": "code",
      "source": [
        "#menampilkan confusion matrix\n",
        "import matplotlib.pyplot as plt\n",
        "import seaborn as sns\n",
        "from sklearn.metrics import confusion_matrix\n",
        "cm = confusion_matrix(y, y_pred)\n",
        "class_names = [\"Baik\", \"Cemar Ringan\", \"Cemar Sedang\", \"Cemar Berat\"]\n",
        "# Visualisasi confusion matrix menggunakan heatmap\n",
        "sns.heatmap(cm, annot=True, fmt=\"d\",cmap=\"Blues\", cbar=False,\n",
        "            xticklabels=class_names,\n",
        "            yticklabels=class_names)\n",
        "plt.xlabel('Prediksi')\n",
        "plt.ylabel('Aktual')\n",
        "plt.title('Confusion Matrix')\n",
        "plt.show()"
      ],
      "metadata": {
        "colab": {
          "base_uri": "https://localhost:8080/",
          "height": 472
        },
        "id": "6CBsQsvTfZwC",
        "outputId": "febb2dbc-2c40-4e2a-e622-cf3969299252"
      },
      "execution_count": null,
      "outputs": [
        {
          "output_type": "display_data",
          "data": {
            "text/plain": [
              "<Figure size 640x480 with 1 Axes>"
            ],
            "image/png": "[encoded data removed]"
          },
          "metadata": {}
        }
      ]
    },
    {
      "cell_type": "code",
      "source": [
        "# Menghitung accuracy dan error rate\n",
        "correct_instances = (y == y_pred).sum()\n",
        "incorrect_instances = len(y) - correct_instances\n",
        "\n",
        "total_instances = len(y)\n",
        "correct_percentage = (correct_instances / total_instances) * 100\n",
        "incorrect_percentage = (incorrect_instances / total_instances) * 100\n",
        "\n",
        "# Menampilkan hasil\n",
        "print(f\"Accuracy  : ({correct_percentage:.4f}%)\")\n",
        "print(f\"Error Rate: ({incorrect_percentage:.4f}%)\")"
      ],
      "metadata": {
        "colab": {
          "base_uri": "https://localhost:8080/"
        },
        "id": "JoXznKetkiL9",
        "outputId": "5d12a776-ead2-4d87-98bf-1e3bbca4627a"
      },
      "execution_count": null,
      "outputs": [
        {
          "output_type": "stream",
          "name": "stdout",
          "text": [
            "Accuracy  : (83.8951%)\n",
            "Error Rate: (16.1049%)\n"
          ]
        }
      ]
    },
    {
      "cell_type": "code",
      "source": [
        "#precision, recall, f1-score keseluruhan\n",
        "from sklearn.metrics import precision_score, recall_score, f1_score\n",
        "precision = precision_score(y, y_pred, average='weighted')\n",
        "recall = recall_score(y, y_pred, average='weighted')\n",
        "f1_score = f1_score(y, y_pred, average='weighted')\n",
        "# Menampilkan hasil\n",
        "print(\"Presisi (Precision): {:.4f}\".format(precision))\n",
        "print(\"Recall: {:.4f}\".format(recall))\n",
        "print(\"F1-Score: {:.4f}\".format(f1_score))"
      ],
      "metadata": {
        "colab": {
          "base_uri": "https://localhost:8080/"
        },
        "id": "ZAWJ1Ij5jT2K",
        "outputId": "74d49127-187e-4754-e8d0-0b8dbb227916"
      },
      "execution_count": null,
      "outputs": [
        {
          "output_type": "stream",
          "name": "stdout",
          "text": [
            "Presisi (Precision): 0.8478\n",
            "Recall: 0.8390\n",
            "F1-Score: 0.8389\n"
          ]
        }
      ]
    },
    {
      "cell_type": "code",
      "source": [
        "#precision, recall, f1-score pada tiap label\n",
        "from sklearn.metrics import precision_score, recall_score, f1_score\n",
        "import numpy as np\n",
        "\n",
        "labels = ['Baik', 'Cemar Ringan', 'Cemar Sedang', 'Cemar Berat']\n",
        "tp = np.diag(cm)\n",
        "fn = np.sum(cm, axis=1) - tp\n",
        "fp = np.sum(cm, axis=0) - tp\n",
        "\n",
        "# Menghitung precision, recall, dan F1-score untuk setiap kelas\n",
        "precision = tp / (tp + fp)\n",
        "recall = tp / (tp + fn)\n",
        "f1_score = 2 * (precision * recall) / (precision + recall)\n",
        "\n",
        "# Menyimpan hasil pada dictionary untuk tiap label\n",
        "result = {}\n",
        "for i in range(len(labels)):\n",
        "    label = labels[i]\n",
        "    result[label] = {'precision': precision[i],\n",
        "                     'recall': recall[i],\n",
        "                     'f1_score': f1_score[i]}\n",
        "\n",
        "# Menampilkan hasil dengan hanya 4 angka di belakang koma\n",
        "for label, metrics in result.items():\n",
        "    precision = round(metrics['precision'], 5)\n",
        "    recall = round(metrics['recall'], 5)\n",
        "    f1_score = round(metrics['f1_score'], 5)\n",
        "    print(\"Label: {:<20}  Precision: {:.5f}\".format(label, precision), end='  ')\n",
        "    print(\"Recall: {:.5f}\".format(recall), end='  ')\n",
        "    print(\"F1-score: {:.5f}\".format(f1_score))\n"
      ],
      "metadata": {
        "colab": {
          "base_uri": "https://localhost:8080/"
        },
        "id": "r9gilP6wQKdV",
        "outputId": "1ce41787-a8ab-4db8-dcfd-c98a670e1e53"
      },
      "execution_count": null,
      "outputs": [
        {
          "output_type": "stream",
          "name": "stdout",
          "text": [
            "Label: Baik                  Precision: 0.75072  Recall: 0.94585  F1-score: 0.83706\n",
            "Label: Cemar Ringan          Precision: 0.87500  Recall: 0.71795  F1-score: 0.78873\n",
            "Label: Cemar Sedang          Precision: 0.88211  Recall: 0.80732  F1-score: 0.84306\n",
            "Label: Cemar Berat           Precision: 0.88208  Recall: 0.80258  F1-score: 0.84045\n"
          ]
        }
      ]
    }
  ],
  "metadata": {
    "colab": {
      "provenance": [],
      "authorship_tag": "ABX9TyOD4ebxZzZtWasR5Hf2egW/",
      "include_colab_link": true
    },
    "kernelspec": {
      "display_name": "Python 3",
      "name": "python3"
    },
    "language_info": {
      "name": "python"
    }
  },
  "nbformat": 4,
  "nbformat_minor": 0
}