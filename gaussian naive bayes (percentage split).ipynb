{
  "cells": [
    {
      "cell_type": "markdown",
      "metadata": {
        "id": "view-in-github",
        "colab_type": "text"
      },
      "source": [
        "<a href=\"https://colab.research.google.com/github/arsyafathia/naivebayes/blob/main/gaussian%20naive%20bayes%20(percentage%20split).ipynb\" target=\"_parent\"><img src=\"https://colab.research.google.com/assets/colab-badge.svg\" alt=\"Open In Colab\"/></a>"
      ]
    },
    {
      "cell_type": "code",
      "execution_count": null,
      "metadata": {
        "id": "UDUKrtIO0APG"
      },
      "outputs": [],
      "source": [
        "import pandas as pd\n",
        "from sklearn.naive_bayes import GaussianNB\n",
        "from sklearn.model_selection import train_test_split\n",
        "from sklearn.metrics import accuracy_score\n",
        "from sklearn.model_selection import cross_val_score\n",
        "import matplotlib.pyplot as plt"
      ]
    },
    {
      "cell_type": "code",
      "execution_count": null,
      "metadata": {
        "colab": {
          "base_uri": "https://localhost:8080/",
          "height": 424
        },
        "id": "GFZ-kDo20Inq",
        "outputId": "3402d9ce-fe24-4c83-9965-adab5dccc28f"
      },
      "outputs": [
        {
          "output_type": "execute_result",
          "data": {
            "text/plain": [
              "               kota kecamatan       kelurahan   ph  deterjen  mangan  \\\n",
              "0     Jakarta Pusat    Gambir          Cideng  7.2      0.60    0.30   \n",
              "1     Jakarta Pusat    Gambir       Duri Pulo  7.6      2.94    1.51   \n",
              "2     Jakarta Pusat    Gambir          Gambir  7.9      0.14    0.60   \n",
              "3     Jakarta Pusat    Gambir    Kebon Kelapa  7.5      0.60    0.30   \n",
              "4     Jakarta Pusat    Gambir  Petojo Selatan  7.7      0.60    0.30   \n",
              "...             ...       ...             ...  ...       ...     ...   \n",
              "1063  Jakarta Timur  Cipayung        Cipayung  7.0      0.02    0.03   \n",
              "1064  Jakarta Timur  Cipayung    Lubang Buaya  6.5      0.02    0.03   \n",
              "1065  Jakarta Timur  Cipayung          Munjul  6.0      0.02    0.03   \n",
              "1066  Jakarta Timur  Cipayung  Pondok Ranggon  6.6      0.02    0.03   \n",
              "1067  Jakarta Timur  Cipayung            Setu  6.9      0.00    0.03   \n",
              "\n",
              "      total_coliform  e_coli  indeks          mutu  \n",
              "0                100     100    1.78  Cemar Ringan  \n",
              "1                  0       0    0.72          Baik  \n",
              "2                100       0    2.74  Cemar Ringan  \n",
              "3                  0       0    0.99          Baik  \n",
              "4                  0       0    1.31  Cemar Ringan  \n",
              "...              ...     ...     ...           ...  \n",
              "1063            2900       0    6.00  Cemar Sedang  \n",
              "1064            1000     600    5.00  Cemar Sedang  \n",
              "1065             900     200    5.00  Cemar Sedang  \n",
              "1066               0       0    0.00          Baik  \n",
              "1067               0       0    0.00          Baik  \n",
              "\n",
              "[1068 rows x 10 columns]"
            ],
            "text/html": [
              "\n",
              "  <div id=\"df-770397d5-174c-4224-80eb-82bd4d4dd6af\">\n",
              "    <div class=\"colab-df-container\">\n",
              "      <div>\n",
              "<style scoped>\n",
              "    .dataframe tbody tr th:only-of-type {\n",
              "        vertical-align: middle;\n",
              "    }\n",
              "\n",
              "    .dataframe tbody tr th {\n",
              "        vertical-align: top;\n",
              "    }\n",
              "\n",
              "    .dataframe thead th {\n",
              "        text-align: right;\n",
              "    }\n",
              "</style>\n",
              "<table border=\"1\" class=\"dataframe\">\n",
              "  <thead>\n",
              "    <tr style=\"text-align: right;\">\n",
              "      <th></th>\n",
              "      <th>kota</th>\n",
              "      <th>kecamatan</th>\n",
              "      <th>kelurahan</th>\n",
              "      <th>ph</th>\n",
              "      <th>deterjen</th>\n",
              "      <th>mangan</th>\n",
              "      <th>total_coliform</th>\n",
              "      <th>e_coli</th>\n",
              "      <th>indeks</th>\n",
              "      <th>mutu</th>\n",
              "    </tr>\n",
              "  </thead>\n",
              "  <tbody>\n",
              "    <tr>\n",
              "      <th>0</th>\n",
              "      <td>Jakarta Pusat</td>\n",
              "      <td>Gambir</td>\n",
              "      <td>Cideng</td>\n",
              "      <td>7.2</td>\n",
              "      <td>0.60</td>\n",
              "      <td>0.30</td>\n",
              "      <td>100</td>\n",
              "      <td>100</td>\n",
              "      <td>1.78</td>\n",
              "      <td>Cemar Ringan</td>\n",
              "    </tr>\n",
              "    <tr>\n",
              "      <th>1</th>\n",
              "      <td>Jakarta Pusat</td>\n",
              "      <td>Gambir</td>\n",
              "      <td>Duri Pulo</td>\n",
              "      <td>7.6</td>\n",
              "      <td>2.94</td>\n",
              "      <td>1.51</td>\n",
              "      <td>0</td>\n",
              "      <td>0</td>\n",
              "      <td>0.72</td>\n",
              "      <td>Baik</td>\n",
              "    </tr>\n",
              "    <tr>\n",
              "      <th>2</th>\n",
              "      <td>Jakarta Pusat</td>\n",
              "      <td>Gambir</td>\n",
              "      <td>Gambir</td>\n",
              "      <td>7.9</td>\n",
              "      <td>0.14</td>\n",
              "      <td>0.60</td>\n",
              "      <td>100</td>\n",
              "      <td>0</td>\n",
              "      <td>2.74</td>\n",
              "      <td>Cemar Ringan</td>\n",
              "    </tr>\n",
              "    <tr>\n",
              "      <th>3</th>\n",
              "      <td>Jakarta Pusat</td>\n",
              "      <td>Gambir</td>\n",
              "      <td>Kebon Kelapa</td>\n",
              "      <td>7.5</td>\n",
              "      <td>0.60</td>\n",
              "      <td>0.30</td>\n",
              "      <td>0</td>\n",
              "      <td>0</td>\n",
              "      <td>0.99</td>\n",
              "      <td>Baik</td>\n",
              "    </tr>\n",
              "    <tr>\n",
              "      <th>4</th>\n",
              "      <td>Jakarta Pusat</td>\n",
              "      <td>Gambir</td>\n",
              "      <td>Petojo Selatan</td>\n",
              "      <td>7.7</td>\n",
              "      <td>0.60</td>\n",
              "      <td>0.30</td>\n",
              "      <td>0</td>\n",
              "      <td>0</td>\n",
              "      <td>1.31</td>\n",
              "      <td>Cemar Ringan</td>\n",
              "    </tr>\n",
              "    <tr>\n",
              "      <th>...</th>\n",
              "      <td>...</td>\n",
              "      <td>...</td>\n",
              "      <td>...</td>\n",
              "      <td>...</td>\n",
              "      <td>...</td>\n",
              "      <td>...</td>\n",
              "      <td>...</td>\n",
              "      <td>...</td>\n",
              "      <td>...</td>\n",
              "      <td>...</td>\n",
              "    </tr>\n",
              "    <tr>\n",
              "      <th>1063</th>\n",
              "      <td>Jakarta Timur</td>\n",
              "      <td>Cipayung</td>\n",
              "      <td>Cipayung</td>\n",
              "      <td>7.0</td>\n",
              "      <td>0.02</td>\n",
              "      <td>0.03</td>\n",
              "      <td>2900</td>\n",
              "      <td>0</td>\n",
              "      <td>6.00</td>\n",
              "      <td>Cemar Sedang</td>\n",
              "    </tr>\n",
              "    <tr>\n",
              "      <th>1064</th>\n",
              "      <td>Jakarta Timur</td>\n",
              "      <td>Cipayung</td>\n",
              "      <td>Lubang Buaya</td>\n",
              "      <td>6.5</td>\n",
              "      <td>0.02</td>\n",
              "      <td>0.03</td>\n",
              "      <td>1000</td>\n",
              "      <td>600</td>\n",
              "      <td>5.00</td>\n",
              "      <td>Cemar Sedang</td>\n",
              "    </tr>\n",
              "    <tr>\n",
              "      <th>1065</th>\n",
              "      <td>Jakarta Timur</td>\n",
              "      <td>Cipayung</td>\n",
              "      <td>Munjul</td>\n",
              "      <td>6.0</td>\n",
              "      <td>0.02</td>\n",
              "      <td>0.03</td>\n",
              "      <td>900</td>\n",
              "      <td>200</td>\n",
              "      <td>5.00</td>\n",
              "      <td>Cemar Sedang</td>\n",
              "    </tr>\n",
              "    <tr>\n",
              "      <th>1066</th>\n",
              "      <td>Jakarta Timur</td>\n",
              "      <td>Cipayung</td>\n",
              "      <td>Pondok Ranggon</td>\n",
              "      <td>6.6</td>\n",
              "      <td>0.02</td>\n",
              "      <td>0.03</td>\n",
              "      <td>0</td>\n",
              "      <td>0</td>\n",
              "      <td>0.00</td>\n",
              "      <td>Baik</td>\n",
              "    </tr>\n",
              "    <tr>\n",
              "      <th>1067</th>\n",
              "      <td>Jakarta Timur</td>\n",
              "      <td>Cipayung</td>\n",
              "      <td>Setu</td>\n",
              "      <td>6.9</td>\n",
              "      <td>0.00</td>\n",
              "      <td>0.03</td>\n",
              "      <td>0</td>\n",
              "      <td>0</td>\n",
              "      <td>0.00</td>\n",
              "      <td>Baik</td>\n",
              "    </tr>\n",
              "  </tbody>\n",
              "</table>\n",
              "<p>1068 rows × 10 columns</p>\n",
              "</div>\n",
              "      <button class=\"colab-df-convert\" onclick=\"convertToInteractive('df-770397d5-174c-4224-80eb-82bd4d4dd6af')\"\n",
              "              title=\"Convert this dataframe to an interactive table.\"\n",
              "              style=\"display:none;\">\n",
              "        \n",
              "  <svg xmlns=\"http://www.w3.org/2000/svg\" height=\"24px\"viewBox=\"0 0 24 24\"\n",
              "       width=\"24px\">\n",
              "    <path d=\"M0 0h24v24H0V0z\" fill=\"none\"/>\n",
              "    <path d=\"M18.56 5.44l.94 2.06.94-2.06 2.06-.94-2.06-.94-.94-2.06-.94 2.06-2.06.94zm-11 1L8.5 8.5l.94-2.06 2.06-.94-2.06-.94L8.5 2.5l-.94 2.06-2.06.94zm10 10l.94 2.06.94-2.06 2.06-.94-2.06-.94-.94-2.06-.94 2.06-2.06.94z\"/><path d=\"M17.41 7.96l-1.37-1.37c-.4-.4-.92-.59-1.43-.59-.52 0-1.04.2-1.43.59L10.3 9.45l-7.72 7.72c-.78.78-.78 2.05 0 2.83L4 21.41c.39.39.9.59 1.41.59.51 0 1.02-.2 1.41-.59l7.78-7.78 2.81-2.81c.8-.78.8-2.07 0-2.86zM5.41 20L4 18.59l7.72-7.72 1.47 1.35L5.41 20z\"/>\n",
              "  </svg>\n",
              "      </button>\n",
              "      \n",
              "  <style>\n",
              "    .colab-df-container {\n",
              "      display:flex;\n",
              "      flex-wrap:wrap;\n",
              "      gap: 12px;\n",
              "    }\n",
              "\n",
              "    .colab-df-convert {\n",
              "      background-color: #E8F0FE;\n",
              "      border: none;\n",
              "      border-radius: 50%;\n",
              "      cursor: pointer;\n",
              "      display: none;\n",
              "      fill: #1967D2;\n",
              "      height: 32px;\n",
              "      padding: 0 0 0 0;\n",
              "      width: 32px;\n",
              "    }\n",
              "\n",
              "    .colab-df-convert:hover {\n",
              "      background-color: #E2EBFA;\n",
              "      box-shadow: 0px 1px 2px rgba(60, 64, 67, 0.3), 0px 1px 3px 1px rgba(60, 64, 67, 0.15);\n",
              "      fill: #174EA6;\n",
              "    }\n",
              "\n",
              "    [theme=dark] .colab-df-convert {\n",
              "      background-color: #3B4455;\n",
              "      fill: #D2E3FC;\n",
              "    }\n",
              "\n",
              "    [theme=dark] .colab-df-convert:hover {\n",
              "      background-color: #434B5C;\n",
              "      box-shadow: 0px 1px 3px 1px rgba(0, 0, 0, 0.15);\n",
              "      filter: drop-shadow(0px 1px 2px rgba(0, 0, 0, 0.3));\n",
              "      fill: #FFFFFF;\n",
              "    }\n",
              "  </style>\n",
              "\n",
              "      <script>\n",
              "        const buttonEl =\n",
              "          document.querySelector('#df-770397d5-174c-4224-80eb-82bd4d4dd6af button.colab-df-convert');\n",
              "        buttonEl.style.display =\n",
              "          google.colab.kernel.accessAllowed ? 'block' : 'none';\n",
              "\n",
              "        async function convertToInteractive(key) {\n",
              "          const element = document.querySelector('#df-770397d5-174c-4224-80eb-82bd4d4dd6af');\n",
              "          const dataTable =\n",
              "            await google.colab.kernel.invokeFunction('convertToInteractive',\n",
              "                                                     [key], {});\n",
              "          if (!dataTable) return;\n",
              "\n",
              "          const docLinkHtml = 'Like what you see? Visit the ' +\n",
              "            '<a target=\"_blank\" href=https://colab.research.google.com/notebooks/data_table.ipynb>data table notebook</a>'\n",
              "            + ' to learn more about interactive tables.';\n",
              "          element.innerHTML = '';\n",
              "          dataTable['output_type'] = 'display_data';\n",
              "          await google.colab.output.renderOutput(dataTable, element);\n",
              "          const docLink = document.createElement('div');\n",
              "          docLink.innerHTML = docLinkHtml;\n",
              "          element.appendChild(docLink);\n",
              "        }\n",
              "      </script>\n",
              "    </div>\n",
              "  </div>\n",
              "  "
            ]
          },
          "metadata": {},
          "execution_count": 2
        }
      ],
      "source": [
        "import pandas as pd\n",
        "read_file = pd.read_excel (\"datasetbaru.xlsx\")\n",
        "read_file.to_csv (\"dataset.csv\",\n",
        "                  index = None,\n",
        "                  header=True)\n",
        "df =pd.DataFrame(pd.read_csv(\"dataset.csv\"))\n",
        "df"
      ]
    },
    {
      "cell_type": "code",
      "execution_count": null,
      "metadata": {
        "colab": {
          "base_uri": "https://localhost:8080/"
        },
        "id": "s5vo6nYG4HZD",
        "outputId": "490d69e2-bdf6-4f9e-f74e-33841428ae9f"
      },
      "outputs": [
        {
          "output_type": "execute_result",
          "data": {
            "text/plain": [
              "kota              0\n",
              "kecamatan         0\n",
              "kelurahan         0\n",
              "ph                0\n",
              "deterjen          0\n",
              "mangan            0\n",
              "total_coliform    0\n",
              "e_coli            0\n",
              "indeks            0\n",
              "mutu              0\n",
              "dtype: int64"
            ]
          },
          "metadata": {},
          "execution_count": 3
        }
      ],
      "source": [
        "df.isnull().sum()"
      ]
    },
    {
      "cell_type": "code",
      "execution_count": null,
      "metadata": {
        "colab": {
          "base_uri": "https://localhost:8080/"
        },
        "id": "6FhsAF-K6n9w",
        "outputId": "a20e1ca6-8173-4421-df88-fb17d3f47cec"
      },
      "outputs": [
        {
          "output_type": "execute_result",
          "data": {
            "text/plain": [
              "Cemar Ringan    519\n",
              "Baik            277\n",
              "Cemar Sedang    233\n",
              "Cemar Berat      39\n",
              "Name: mutu, dtype: int64"
            ]
          },
          "metadata": {},
          "execution_count": 4
        }
      ],
      "source": [
        "df['mutu'].value_counts()"
      ]
    },
    {
      "cell_type": "code",
      "execution_count": null,
      "metadata": {
        "colab": {
          "base_uri": "https://localhost:8080/"
        },
        "id": "xRgu9l-CjORC",
        "outputId": "ce1a72fb-a0dd-4d66-fde6-eeb197aca5ba"
      },
      "outputs": [
        {
          "output_type": "stream",
          "name": "stdout",
          "text": [
            "Empty DataFrame\n",
            "Columns: [kota, kecamatan, kelurahan, ph, deterjen, mangan, total_coliform, e_coli, indeks, mutu]\n",
            "Index: []\n"
          ]
        }
      ],
      "source": [
        "duplicate_rows = df[df.duplicated()]\n",
        "\n",
        "# display the duplicate rows\n",
        "print(duplicate_rows)"
      ]
    },
    {
      "cell_type": "code",
      "execution_count": null,
      "metadata": {
        "colab": {
          "base_uri": "https://localhost:8080/"
        },
        "id": "KEKFECir4EIB",
        "outputId": "886ac841-5d70-4a71-e5e1-fdc2128a1b6f"
      },
      "outputs": [
        {
          "output_type": "execute_result",
          "data": {
            "text/plain": [
              "kota              0\n",
              "kecamatan         0\n",
              "kelurahan         0\n",
              "ph                0\n",
              "deterjen          0\n",
              "mangan            0\n",
              "total_coliform    0\n",
              "e_coli            0\n",
              "indeks            0\n",
              "mutu              0\n",
              "dtype: int64"
            ]
          },
          "metadata": {},
          "execution_count": 6
        }
      ],
      "source": [
        "df.isnull().sum()"
      ]
    },
    {
      "cell_type": "code",
      "source": [
        "# Atribut numerik\n",
        "numeric_cols = ['ph', 'deterjen', 'mangan', 'total_coliform', 'e_coli', 'indeks'] # Ganti dengan nama atribut numerik pada data Anda\n",
        "\n",
        "# Atribut string\n",
        "categorical_cols = ['kota','kecamatan','kelurahan','mutu'] # Ganti dengan nama atribut string pada data Anda"
      ],
      "metadata": {
        "id": "ORqozkiu6JKJ"
      },
      "execution_count": null,
      "outputs": []
    },
    {
      "cell_type": "code",
      "source": [
        "df['mutu'].value_counts()"
      ],
      "metadata": {
        "colab": {
          "base_uri": "https://localhost:8080/"
        },
        "id": "-MS7UZTUnXz-",
        "outputId": "8c2d904f-3a51-4ec4-defd-5a9a3d68a802"
      },
      "execution_count": null,
      "outputs": [
        {
          "output_type": "execute_result",
          "data": {
            "text/plain": [
              "Cemar Ringan    519\n",
              "Baik            277\n",
              "Cemar Sedang    233\n",
              "Cemar Berat      39\n",
              "Name: mutu, dtype: int64"
            ]
          },
          "metadata": {},
          "execution_count": 9
        }
      ]
    },
    {
      "cell_type": "code",
      "execution_count": null,
      "metadata": {
        "id": "H6ji_QY60QxY"
      },
      "outputs": [],
      "source": [
        "#Split the data into features (X) and target (y) variables.\n",
        "\n",
        "X = df.drop('mutu', axis=1)\n",
        "y = df['mutu']"
      ]
    },
    {
      "cell_type": "code",
      "execution_count": null,
      "metadata": {
        "colab": {
          "base_uri": "https://localhost:8080/"
        },
        "id": "GfPOksQVu6cV",
        "outputId": "93a28ced-beea-4f7c-81b7-cf90f97d78e6"
      },
      "outputs": [
        {
          "output_type": "stream",
          "name": "stdout",
          "text": [
            "<class 'pandas.core.frame.DataFrame'>\n",
            "RangeIndex: 1068 entries, 0 to 1067\n",
            "Data columns (total 10 columns):\n",
            " #   Column          Non-Null Count  Dtype  \n",
            "---  ------          --------------  -----  \n",
            " 0   kota            1068 non-null   object \n",
            " 1   kecamatan       1068 non-null   object \n",
            " 2   kelurahan       1068 non-null   object \n",
            " 3   ph              1068 non-null   float64\n",
            " 4   deterjen        1068 non-null   float64\n",
            " 5   mangan          1068 non-null   float64\n",
            " 6   total_coliform  1068 non-null   int64  \n",
            " 7   e_coli          1068 non-null   int64  \n",
            " 8   indeks          1068 non-null   float64\n",
            " 9   mutu            1068 non-null   object \n",
            "dtypes: float64(4), int64(2), object(4)\n",
            "memory usage: 83.6+ KB\n"
          ]
        }
      ],
      "source": [
        "df.info()"
      ]
    },
    {
      "cell_type": "code",
      "source": [
        "#menghitung jumlah data berdasarkan kelurahan dan kecamatan\n",
        "kota_filter = ['Jakarta Timur', 'Jakarta Barat', 'Jakarta Utara', 'Jakarta Selatan', 'Jakarta Pusat']\n",
        "df_filtered = df[df['kota'].isin(kota_filter)]\n",
        "\n",
        "# Hitung jumlah kelurahan unik di keempat kota tersebut\n",
        "jumlah_kelurahan = df_filtered['kelurahan'].nunique()\n",
        "jumlah_kecamatan = df_filtered['kecamatan'].nunique()\n",
        "\n",
        "print(\"Jumlah Kelurahan di Jakarta:\", jumlah_kelurahan)\n",
        "print(\"Jumlah Kecamatan di Jakarta:\", jumlah_kecamatan)\n",
        "\n",
        "jumlah_data = df_filtered.shape[0]\n",
        "print(\"Jumlah Keseluruhan Data:\", jumlah_data)\n"
      ],
      "metadata": {
        "id": "MSXlYipwE810",
        "outputId": "d1455a0d-c6a0-41a9-db0e-0799ffb8eeae",
        "colab": {
          "base_uri": "https://localhost:8080/"
        }
      },
      "execution_count": null,
      "outputs": [
        {
          "output_type": "stream",
          "name": "stdout",
          "text": [
            "Jumlah Kelurahan di Jakarta: 267\n",
            "Jumlah Kecamatan di Jakarta: 44\n",
            "Jumlah Keseluruhan Data: 1068\n"
          ]
        }
      ]
    },
    {
      "cell_type": "code",
      "execution_count": null,
      "metadata": {
        "colab": {
          "base_uri": "https://localhost:8080/"
        },
        "id": "3Fzu24WXuF2_",
        "outputId": "c1441879-c484-4e19-a972-eb65d9a09312"
      },
      "outputs": [
        {
          "output_type": "stream",
          "name": "stdout",
          "text": [
            "<class 'pandas.core.frame.DataFrame'>\n",
            "RangeIndex: 1068 entries, 0 to 1067\n",
            "Data columns (total 9 columns):\n",
            " #   Column          Non-Null Count  Dtype  \n",
            "---  ------          --------------  -----  \n",
            " 0   kota            1068 non-null   object \n",
            " 1   kecamatan       1068 non-null   object \n",
            " 2   kelurahan       1068 non-null   object \n",
            " 3   ph              1068 non-null   float64\n",
            " 4   deterjen        1068 non-null   float64\n",
            " 5   mangan          1068 non-null   float64\n",
            " 6   total_coliform  1068 non-null   int64  \n",
            " 7   e_coli          1068 non-null   int64  \n",
            " 8   indeks          1068 non-null   float64\n",
            "dtypes: float64(4), int64(2), object(3)\n",
            "memory usage: 75.2+ KB\n",
            "None\n",
            "                ph     deterjen       mangan  total_coliform        e_coli  \\\n",
            "count  1068.000000  1068.000000  1068.000000    1.068000e+03  1.068000e+03   \n",
            "mean      7.006695     0.164596     0.353956    5.896732e+04  9.423071e+03   \n",
            "std       0.545592     0.276354     1.038761    1.010805e+06  2.055510e+05   \n",
            "min       4.100000     0.000000     0.000000    0.000000e+00  0.000000e+00   \n",
            "25%       6.600000     0.030000     0.030000    0.000000e+00  0.000000e+00   \n",
            "50%       7.000000     0.050000     0.050000    1.000000e+02  0.000000e+00   \n",
            "75%       7.400000     0.200000     0.300000    7.000000e+02  0.000000e+00   \n",
            "max       9.900000     5.100000    24.000000    2.900000e+07  6.000000e+06   \n",
            "\n",
            "           indeks  \n",
            "count  1068.00000  \n",
            "mean      3.32890  \n",
            "std       3.45203  \n",
            "min       0.00000  \n",
            "25%       0.88500  \n",
            "50%       2.00500  \n",
            "75%       5.00000  \n",
            "max      41.10000  \n"
          ]
        }
      ],
      "source": [
        "print(X.info())\n",
        "print(X.describe())"
      ]
    },
    {
      "cell_type": "code",
      "execution_count": null,
      "metadata": {
        "colab": {
          "base_uri": "https://localhost:8080/"
        },
        "id": "4M_XN9NnuRPK",
        "outputId": "500d1abc-d695-4e58-bbdc-b96c8fc6c1cf"
      },
      "outputs": [
        {
          "output_type": "stream",
          "name": "stdout",
          "text": [
            "Index(['kota', 'kecamatan', 'kelurahan', 'ph', 'deterjen', 'mangan',\n",
            "       'total_coliform', 'e_coli', 'indeks'],\n",
            "      dtype='object')\n"
          ]
        }
      ],
      "source": [
        "print(X.columns)"
      ]
    },
    {
      "cell_type": "code",
      "execution_count": null,
      "metadata": {
        "colab": {
          "base_uri": "https://localhost:8080/"
        },
        "id": "u8aLmW_l6bht",
        "outputId": "755b05fc-1816-4709-f42a-f4225fa15306"
      },
      "outputs": [
        {
          "output_type": "stream",
          "name": "stdout",
          "text": [
            "               kota kecamatan       kelurahan        ph  deterjen    mangan  \\\n",
            "0     Jakarta Pusat    Gambir          Cideng  0.534483  0.117647  0.012500   \n",
            "1     Jakarta Pusat    Gambir       Duri Pulo  0.603448  0.576471  0.062917   \n",
            "2     Jakarta Pusat    Gambir          Gambir  0.655172  0.027451  0.025000   \n",
            "3     Jakarta Pusat    Gambir    Kebon Kelapa  0.586207  0.117647  0.012500   \n",
            "4     Jakarta Pusat    Gambir  Petojo Selatan  0.620690  0.117647  0.012500   \n",
            "...             ...       ...             ...       ...       ...       ...   \n",
            "1063  Jakarta Timur  Cipayung        Cipayung  0.500000  0.003922  0.001250   \n",
            "1064  Jakarta Timur  Cipayung    Lubang Buaya  0.413793  0.003922  0.001250   \n",
            "1065  Jakarta Timur  Cipayung          Munjul  0.327586  0.003922  0.001250   \n",
            "1066  Jakarta Timur  Cipayung  Pondok Ranggon  0.431034  0.003922  0.001250   \n",
            "1067  Jakarta Timur  Cipayung            Setu  0.482759  0.000000  0.001250   \n",
            "\n",
            "      total_coliform    e_coli    indeks          mutu  \n",
            "0           0.000003  0.000017  0.043309  Cemar Ringan  \n",
            "1           0.000000  0.000000  0.017518          Baik  \n",
            "2           0.000003  0.000000  0.066667  Cemar Ringan  \n",
            "3           0.000000  0.000000  0.024088          Baik  \n",
            "4           0.000000  0.000000  0.031873  Cemar Ringan  \n",
            "...              ...       ...       ...           ...  \n",
            "1063        0.000100  0.000000  0.145985  Cemar Sedang  \n",
            "1064        0.000034  0.000100  0.121655  Cemar Sedang  \n",
            "1065        0.000031  0.000033  0.121655  Cemar Sedang  \n",
            "1066        0.000000  0.000000  0.000000          Baik  \n",
            "1067        0.000000  0.000000  0.000000          Baik  \n",
            "\n",
            "[1068 rows x 10 columns]\n"
          ]
        }
      ],
      "source": [
        "from sklearn.preprocessing import MinMaxScaler\n",
        "\n",
        "scaler = MinMaxScaler()\n",
        "df[numeric_cols]= scaler.fit_transform(df[numeric_cols])\n",
        "print (df)"
      ]
    },
    {
      "cell_type": "code",
      "execution_count": null,
      "metadata": {
        "id": "F9E0Uk8GZUf2"
      },
      "outputs": [],
      "source": [
        "from sklearn.naive_bayes import GaussianNB\n",
        "from sklearn.model_selection import train_test_split\n",
        "\n",
        "X_train, X_test, y_train, y_test = train_test_split(df[numeric_cols],\n",
        "                                                    y, test_size=0.2,\n",
        "                                                    random_state=42)\n",
        "model = GaussianNB()\n",
        "model.fit(X_train, y_train)\n",
        "Y_pred_all = model.predict(df[numeric_cols])"
      ]
    },
    {
      "cell_type": "code",
      "source": [],
      "metadata": {
        "id": "j9At10S6-k6W"
      },
      "execution_count": null,
      "outputs": []
    },
    {
      "cell_type": "code",
      "execution_count": null,
      "metadata": {
        "colab": {
          "base_uri": "https://localhost:8080/"
        },
        "id": "GrLSPSsv2KFV",
        "outputId": "f0692414-9752-4e93-8832-fd86aa7eaa0d"
      },
      "outputs": [
        {
          "output_type": "stream",
          "name": "stdout",
          "text": [
            "Accuracy  : (84.3633%)\n",
            "Error Rate: (15.6367%)\n"
          ]
        }
      ],
      "source": [
        "correct_instances = (y == Y_pred_all).sum()\n",
        "incorrect_instances = len(y) - correct_instances\n",
        "total_instances = len(y)\n",
        "\n",
        "correct_percentage = (correct_instances / total_instances) * 100\n",
        "incorrect_percentage = (incorrect_instances / total_instances) * 100\n",
        "\n",
        "# Menampilkan hasil\n",
        "print(f\"Accuracy  : ({correct_percentage:.4f}%)\")\n",
        "print(f\"Error Rate: ({incorrect_percentage:.4f}%)\")"
      ]
    },
    {
      "cell_type": "code",
      "source": [
        "from sklearn.metrics import precision_score, recall_score, f1_score\n",
        "from sklearn.naive_bayes import GaussianNB\n",
        "\n",
        "precision = precision_score(y, Y_pred_all, average='weighted')\n",
        "recall = recall_score(y, Y_pred_all, average='weighted')\n",
        "f1_score = f1_score(y, Y_pred_all, average='weighted')\n",
        "\n",
        "# Menampilkan hasil\n",
        "print(\"Presisi (Precision): {:.4f}\".format(precision))\n",
        "print(\"Recall: {:.4f}\".format(recall))\n",
        "print(\"F1-Score: {:.4f}\".format(f1_score))"
      ],
      "metadata": {
        "colab": {
          "base_uri": "https://localhost:8080/"
        },
        "id": "fQv6hkxw0H3g",
        "outputId": "d5f60ce4-ba26-4a9a-802a-ed9a47410ee1"
      },
      "execution_count": null,
      "outputs": [
        {
          "output_type": "stream",
          "name": "stdout",
          "text": [
            "Presisi (Precision): 0.8566\n",
            "Recall: 0.8436\n",
            "F1-Score: 0.8436\n"
          ]
        }
      ]
    },
    {
      "cell_type": "code",
      "source": [
        "from sklearn.metrics import confusion_matrix\n",
        "import matplotlib.pyplot as plt\n",
        "import seaborn as sns\n",
        "cm1 = confusion_matrix(y, Y_pred_all)\n",
        "class_names = [\"Baik\", \"Cemar Ringan\", \"Cemar Sedang\", \"Cemar Berat\"]\n",
        "\n",
        "# Visualisasi confusion matrix menggunakan heatmap\n",
        "sns.heatmap(cm1, annot=True, fmt=\"d\", cmap=\"Blues\", cbar=False, xticklabels=class_names, yticklabels=class_names)\n",
        "plt.xlabel('Prediksi')\n",
        "plt.ylabel('Aktual')\n",
        "plt.title('Confusion Matrix')\n",
        "plt.show()"
      ],
      "metadata": {
        "colab": {
          "base_uri": "https://localhost:8080/",
          "height": 472
        },
        "id": "ukDtOysu98Xe",
        "outputId": "5a2e506e-f043-4a23-e4c1-989a6f1d72b3"
      },
      "execution_count": null,
      "outputs": [
        {
          "output_type": "display_data",
          "data": {
            "text/plain": [
              "<Figure size 640x480 with 1 Axes>"
            ],
            "image/png": "[encoded data removed]"
          },
          "metadata": {}
        }
      ]
    },
    {
      "cell_type": "code",
      "source": [
        "from sklearn.metrics import precision_score, recall_score, f1_score\n",
        "import numpy as np\n",
        "\n",
        "labels = ['Baik', 'Cemar Ringan', 'Cemar Sedang', 'Cemar Berat']\n",
        "tp = np.diag(cm1)\n",
        "fn = np.sum(cm1, axis=1) - tp\n",
        "fp = np.sum(cm1, axis=0) - tp\n",
        "\n",
        "# Menghitung precision, recall, dan F1-score untuk setiap kelas\n",
        "precision = tp / (tp + fp)\n",
        "recall = tp / (tp + fn)\n",
        "f1_score = 2 * (precision * recall) / (precision + recall)\n",
        "\n",
        "# Menyimpan hasil pada dictionary untuk tiap label\n",
        "result = {}\n",
        "for i in range(len(labels)):\n",
        "    label = labels[i]\n",
        "    result[label] = {'precision': precision[i], 'recall': recall[i], 'f1_score': f1_score[i]}\n",
        "\n",
        "# Menampilkan hasil dengan hanya 4 angka di belakang koma\n",
        "for label, metrics in result.items():\n",
        "    precision = round(metrics['precision'], 4)\n",
        "    recall = round(metrics['recall'], 4)\n",
        "    f1_score = round(metrics['f1_score'], 4)\n",
        "    print(\"Label: {:<20}  Precision: {:.4f}\".format(label, precision), end='  ')\n",
        "    print(\"Recall: {:.4f}\".format(recall), end='  ')\n",
        "    print(\"F1-score: {:.4f}\".format(f1_score))\n"
      ],
      "metadata": {
        "id": "dahSEnUS-EYT",
        "colab": {
          "base_uri": "https://localhost:8080/"
        },
        "outputId": "a281c24f-a6cb-4cec-fba3-33462a2fd8e8"
      },
      "execution_count": null,
      "outputs": [
        {
          "output_type": "stream",
          "name": "stdout",
          "text": [
            "Label: Baik                  Precision: 0.7425  Recall: 0.9783  F1-score: 0.8442\n",
            "Label: Cemar Ringan          Precision: 0.9375  Recall: 0.7692  F1-score: 0.8451\n",
            "Label: Cemar Sedang          Precision: 0.8870  Recall: 0.8015  F1-score: 0.8421\n",
            "Label: Cemar Berat           Precision: 0.9109  Recall: 0.7897  F1-score: 0.8460\n"
          ]
        }
      ]
    }
  ],
  "metadata": {
    "colab": {
      "provenance": [],
      "authorship_tag": "ABX9TyNiapnDiNPTTrYxSxI5wQCG",
      "include_colab_link": true
    },
    "kernelspec": {
      "display_name": "Python 3",
      "name": "python3"
    },
    "language_info": {
      "name": "python"
    }
  },
  "nbformat": 4,
  "nbformat_minor": 0
}